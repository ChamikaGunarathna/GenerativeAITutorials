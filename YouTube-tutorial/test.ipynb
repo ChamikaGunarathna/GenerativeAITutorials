{
 "cells": [
  {
   "cell_type": "code",
   "execution_count": 1,
   "metadata": {},
   "outputs": [],
   "source": [
    "import tensorflow as tf"
   ]
  },
  {
   "cell_type": "code",
   "execution_count": null,
   "metadata": {},
   "outputs": [],
   "source": [
    "!pip list"
   ]
  },
  {
   "cell_type": "code",
   "execution_count": 2,
   "metadata": {},
   "outputs": [
    {
     "name": "stdout",
     "output_type": "stream",
     "text": [
      "Tensorflow Compiled with CUDA/GPU Support: True\n",
      "Tensorflow can access 1 GPU\n",
      "Accessible GPUs are:\n",
      "[PhysicalDevice(name='/physical_device:GPU:0', device_type='GPU')]\n"
     ]
    }
   ],
   "source": [
    "hasGPUSupport = tf.test.is_built_with_cuda()\n",
    "gpuList = tf.config.list_physical_devices('GPU')\n",
    "print(\"Tensorflow Compiled with CUDA/GPU Support:\", hasGPUSupport)\n",
    "print(\"Tensorflow can access\", len(gpuList), \"GPU\")\n",
    "print(\"Accessible GPUs are:\")\n",
    "print(gpuList)"
   ]
  },
  {
   "cell_type": "code",
   "execution_count": null,
   "metadata": {},
   "outputs": [],
   "source": []
  }
 ],
 "metadata": {
  "kernelspec": {
   "display_name": "gen-ai",
   "language": "python",
   "name": "python3"
  },
  "language_info": {
   "codemirror_mode": {
    "name": "ipython",
    "version": 3
   },
   "file_extension": ".py",
   "mimetype": "text/x-python",
   "name": "python",
   "nbconvert_exporter": "python",
   "pygments_lexer": "ipython3",
   "version": "3.10.13"
  },
  "orig_nbformat": 4
 },
 "nbformat": 4,
 "nbformat_minor": 2
}
